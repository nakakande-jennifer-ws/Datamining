{
 "cells": [
  {
   "cell_type": "code",
   "execution_count": 48,
   "id": "f0780ebd",
   "metadata": {},
   "outputs": [],
   "source": [
    "import pandas as pd"
   ]
  },
  {
   "cell_type": "code",
   "execution_count": 49,
   "id": "dc81491d",
   "metadata": {},
   "outputs": [],
   "source": [
    "class Show:\n",
    "    def __init__(self, show_id, title, show_type, rating, release_year, genre):\n",
    "        self.show_id = show_id\n",
    "        self.title = title\n",
    "        self.show_type = show_type\n",
    "        self.rating = rating\n",
    "        self.release_year = release_year\n",
    "        self.genre = genre\n",
    "\n",
    "    def get_genre(self):\n",
    "        return self.genre\n",
    "\n",
    "def is_family_friendly(tv):\n",
    "    family_ratings = [\"G\", \"PG\", \"TV-G\", \"TV-PG\", \"TV-Y\", \"TV-Y7\"]\n",
    "    return tv.rating in family_ratings\n"
   ]
  },
  {
   "cell_type": "code",
   "execution_count": 50,
   "id": "d3038bd6",
   "metadata": {},
   "outputs": [],
   "source": [
    "def load_shows(df):\n",
    "    shows = []\n",
    "    for _, row in df.iterrows():\n",
    "        show_id = row.get(\"show_id\", \"Unknown\")\n",
    "        title = row.get(\"title\", \"Unknown\")\n",
    "        show_type = row.get(\"type\",\"Unknown\")\n",
    "        rating = row.get(\"rating\", \"NR\")\n",
    "        release_year = row.get(\"release_year\", 0)\n",
    "        genre = row.get(\"listed_in\", \"Unknown\")\n",
    "        shows.append(Show(show_id, title, show_type, rating, release_year, genre))\n",
    "    return shows\n",
    "\n",
    "def count_shows_by_genre(shows):\n",
    "    genre_counts = {}\n",
    "    for show in shows:\n",
    "        genre = show.get_genre()\n",
    "        if genre in genre_counts:\n",
    "            genre_counts[genre] += 1\n",
    "        else:\n",
    "            genre_counts[genre] = 1\n",
    "    return genre_counts\n",
    "\n",
    "def cout_shows_by_type(shows):\n",
    "    type_count = {}\n",
    "    for show in shows:\n",
    "        if show.show_type not in type_count:\n",
    "            type_count[show.show_type] = 0\n",
    "        type_count[show.show_type] += 1\n",
    "    return type_count\n",
    "\n",
    "def get_shows_by_year(shows, year):\n",
    "    return [show for show in shows if show.release_year == year]\n",
    "\n",
    "def get_shows_by_rating(shows, rating):\n",
    "    return [show for show in shows if show.rating == rating]\n",
    "\n",
    "\n",
    "\n"
   ]
  },
  {
   "cell_type": "code",
   "execution_count": 51,
   "id": "f996b104",
   "metadata": {},
   "outputs": [
    {
     "name": "stdout",
     "output_type": "stream",
     "text": [
      "DataSet loaded successfully.\n",
      "Preview of first 5 rows:\n",
      "  show_id     type                  title         director  \\\n",
      "0      s1    Movie   Dick Johnson Is Dead  Kirsten Johnson   \n",
      "1      s2  TV Show          Blood & Water              NaN   \n",
      "2      s3  TV Show              Ganglands  Julien Leclercq   \n",
      "3      s4  TV Show  Jailbirds New Orleans              NaN   \n",
      "4      s5  TV Show           Kota Factory              NaN   \n",
      "\n",
      "                                                cast        country  \\\n",
      "0                                                NaN  United States   \n",
      "1  Ama Qamata, Khosi Ngema, Gail Mabalane, Thaban...   South Africa   \n",
      "2  Sami Bouajila, Tracy Gotoas, Samuel Jouy, Nabi...            NaN   \n",
      "3                                                NaN            NaN   \n",
      "4  Mayur More, Jitendra Kumar, Ranjan Raj, Alam K...          India   \n",
      "\n",
      "           date_added  release_year rating   duration  \\\n",
      "0  September 25, 2021          2020  PG-13     90 min   \n",
      "1  September 24, 2021          2021  TV-MA  2 Seasons   \n",
      "2  September 24, 2021          2021  TV-MA   1 Season   \n",
      "3  September 24, 2021          2021  TV-MA   1 Season   \n",
      "4  September 24, 2021          2021  TV-MA  2 Seasons   \n",
      "\n",
      "                                           listed_in  \\\n",
      "0                                      Documentaries   \n",
      "1    International TV Shows, TV Dramas, TV Mysteries   \n",
      "2  Crime TV Shows, International TV Shows, TV Act...   \n",
      "3                             Docuseries, Reality TV   \n",
      "4  International TV Shows, Romantic TV Shows, TV ...   \n",
      "\n",
      "                                         description  \n",
      "0  As her father nears the end of his life, filmm...  \n",
      "1  After crossing paths at a party, a Cape Town t...  \n",
      "2  To protect his family from a powerful drug lor...  \n",
      "3  Feuds, flirtations and toilet talk go down amo...  \n",
      "4  In a city of coaching centers known to train I...  \n"
     ]
    }
   ],
   "source": [
    "df = pd.read_csv('netflix_titles.csv')\n",
    "print(\"DataSet loaded successfully.\")\n",
    "print(\"Preview of first 5 rows:\")\n",
    "print(df.head())"
   ]
  },
  {
   "cell_type": "code",
   "execution_count": 52,
   "id": "cdb0ec57",
   "metadata": {},
   "outputs": [],
   "source": [
    "shows = load_shows(df)"
   ]
  },
  {
   "cell_type": "code",
   "execution_count": 53,
   "id": "51c35535",
   "metadata": {},
   "outputs": [
    {
     "name": "stdout",
     "output_type": "stream",
     "text": [
      "Number of family-friendly shows: 2052\n"
     ]
    }
   ],
   "source": [
    "family_friendly = sum(1 for show in shows if is_family_friendly(show))\n",
    "print(f\"Number of family-friendly shows: {family_friendly}\")"
   ]
  },
  {
   "cell_type": "code",
   "execution_count": 54,
   "id": "bc20d00a",
   "metadata": {},
   "outputs": [
    {
     "name": "stdout",
     "output_type": "stream",
     "text": [
      "\n",
      "Top 9 genres:\n",
      "- Dramas, International Movies: 362 shows\n",
      "- Documentaries: 359 shows\n",
      "- Stand-Up Comedy: 334 shows\n",
      "- Comedies, Dramas, International Movies: 274 shows\n",
      "- Dramas, Independent Movies, International Movies: 252 shows\n",
      "- Kids' TV: 220 shows\n",
      "- Children & Family Movies: 215 shows\n",
      "- Children & Family Movies, Comedies: 201 shows\n",
      "- Documentaries, International Movies: 186 shows\n"
     ]
    }
   ],
   "source": [
    "genre_counts = count_shows_by_genre(shows)\n",
    "print(\"\\nTop 9 genres:\")\n",
    "for genre, count in sorted(genre_counts.items(), key=lambda x: x[1], reverse=True)[:9]:\n",
    "    print(f\"- {genre}: {count} shows\")"
   ]
  },
  {
   "cell_type": "code",
   "execution_count": 55,
   "id": "8951cc53",
   "metadata": {},
   "outputs": [
    {
     "name": "stdout",
     "output_type": "stream",
     "text": [
      "\n",
      "Count by show type:\n",
      "- Movie: 6131\n",
      "- TV Show: 2676\n"
     ]
    }
   ],
   "source": [
    "type_counts = cout_shows_by_type(shows)\n",
    "print(\"\\nCount by show type:\")\n",
    "for show_type, count in type_counts.items():\n",
    "    print(f\"- {show_type}: {count}\")"
   ]
  },
  {
   "cell_type": "code",
   "execution_count": 56,
   "id": "5482e42e",
   "metadata": {},
   "outputs": [
    {
     "name": "stdout",
     "output_type": "stream",
     "text": [
      "\n",
      "Number of shows released in 2021: 592\n",
      "Some examples:\n",
      "- Blood & Water (TV Show)\n",
      "- Ganglands (TV Show)\n",
      "- Jailbirds New Orleans (TV Show)\n",
      "- Kota Factory (TV Show)\n",
      "- Midnight Mass (TV Show)\n",
      "- My Little Pony: A New Generation (Movie)\n",
      "- The Great British Baking Show (TV Show)\n",
      "- The Starling (Movie)\n",
      "- Vendetta: Truth, Lies and The Mafia (TV Show)\n",
      "- Bangkok Breaking (TV Show)\n",
      "- Je Suis Karl (Movie)\n",
      "- Confessions of an Invisible Girl (Movie)\n",
      "- Crime Stories: India Detectives (TV Show)\n",
      "- Dear White People (TV Show)\n",
      "- Intrusion (Movie)\n",
      "- Jaguar (TV Show)\n",
      "- Monsters Inside: The 24 Faces of Billy Milligan (TV Show)\n",
      "- Go! Go! Cory Carson: Chrissy Takes the Wheel (Movie)\n",
      "- Love on the Spectrum (TV Show)\n",
      "- Ankahi Kahaniya (Movie)\n",
      "- Chicago Party Aunt (TV Show)\n",
      "- Squid Game (TV Show)\n",
      "- The Father Who Moves Mountains (Movie)\n",
      "- The Stronghold (Movie)\n",
      "- Chhota Bheem (TV Show)\n",
      "- He-Man and the Masters of the Universe (TV Show)\n",
      "- My Heroes Were Cowboys (Movie)\n",
      "- Castle and Castle (TV Show)\n",
      "- Nailed It (TV Show)\n",
      "- Nightbooks (Movie)\n",
      "- Numberblocks (TV Show)\n",
      "- Schumacher (Movie)\n",
      "- Too Hot To Handle: Latino (TV Show)\n",
      "- A StoryBots Space Adventure (Movie)\n",
      "- Jack Whitehall: Travels with My Father (TV Show)\n",
      "- The World's Most Amazing Vacation Rentals (TV Show)\n",
      "- You vs. Wild: Out Cold (Movie)\n",
      "- Little Singham - Black Shadow (Movie)\n",
      "- Tughlaq Durbar (Telugu) (Movie)\n",
      "- Firedrake the Silver Dragon (Movie)\n"
     ]
    }
   ],
   "source": [
    "recent_shows = get_shows_by_year(shows, 2021)\n",
    "print(f\"\\nNumber of shows released in 2021: {len(recent_shows)}\")\n",
    "print(\"Some examples:\")\n",
    "for show in recent_shows[:40]:\n",
    "    print(f\"- {show.title} ({show.show_type})\")"
   ]
  },
  {
   "cell_type": "code",
   "execution_count": 57,
   "id": "1718a064",
   "metadata": {},
   "outputs": [
    {
     "name": "stdout",
     "output_type": "stream",
     "text": [
      "\n",
      "Number of TV-MA rated shows: 3207\n"
     ]
    }
   ],
   "source": [
    "\n",
    "# ...cell 10: TV-MA rated shows\n",
    "mature_shows = get_shows_by_rating(shows, \"TV-MA\")\n",
    "print(f\"\\nNumber of TV-MA rated shows: {len(mature_shows)}\")"
   ]
  }
 ],
 "metadata": {
  "kernelspec": {
   "display_name": "Python 3",
   "language": "python",
   "name": "python3"
  },
  "language_info": {
   "codemirror_mode": {
    "name": "ipython",
    "version": 3
   },
   "file_extension": ".py",
   "mimetype": "text/x-python",
   "name": "python",
   "nbconvert_exporter": "python",
   "pygments_lexer": "ipython3",
   "version": "3.13.7"
  }
 },
 "nbformat": 4,
 "nbformat_minor": 5
}
